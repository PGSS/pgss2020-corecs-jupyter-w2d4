{
 "cells": [
  {
   "cell_type": "markdown",
   "metadata": {},
   "source": [
    "# Password Cracking PEX\n",
    "\n",
    "## PEX Explanation\n",
    "\n",
    "This Pwning Exercise (PEX) is meant to be minimal in writing new code and maximal in using what you've already been taught so far in this course. To that end, much code is provided, but it is still no small challenge to provide what is left out to crack the passwords. Every flag can be obtained by supplying the correct password to the checker. Not every level requires new code. Level 1 is defintely easiest, but there is no need to solve these Levels in order."
   ]
  },
  {
   "cell_type": "markdown",
   "metadata": {},
   "source": [
    "## Ignore the `str_xor` Function Below!\n",
    "\n",
    "The code below will be present in all 6 levels of difficulty. **Please ignore it.** \n",
    "\n",
    "It is what decodes the flag if the provided password is correct. Circumventing the password check and invoking this function directly, while plenty clever, will not work in this case, as this decoding function is just using whatever password you've supplied as a key to decrypt the flag. *If you don't know the password, this function is useless!* And if you have found the password, you can completely ignore this function, anyway!!"
   ]
  },
  {
   "cell_type": "code",
   "execution_count": 5,
   "metadata": {},
   "outputs": [
    {
     "name": "stdout",
     "output_type": "stream",
     "text": [
      "Secret: picoCTF{p4p4-wh1sk3y-11m4-thr33-c69d}\n",
      "Encrypted: bytearray(b\"\\x11\\x19\\x0c\\x08&1\\'\\x0b\\x1fS\\x15QL\\x07\\x07V\\x16\\x0eR\\tBVT\\x08U]\\x1b\\x0f\\x17VR]\\x0cQ\\\\\\x01\\x1c\")\n",
      "Decrypted: picoCTF{p4p4-wh1sk3y-11m4-thr33-c69d}\n"
     ]
    }
   ],
   "source": [
    "\"\"\"\n",
    "The function below is used for decrypting the flag when the correct password is given,\n",
    "however, it is quite dense and uses a function `zip` that I don't intend to cover in\n",
    "this class. It exists here so that the actual flags can live in this Notebook but only\n",
    "be viewed if the correct password is given.\n",
    "Documentation: https://stackoverflow.com/questions/20557999/xor-python-text-encryption-decryption\n",
    "\"\"\"\n",
    "def str_xor(secret, key):\n",
    "    #extend key to secret length\n",
    "    new_key = key\n",
    "    i = 0\n",
    "    while len(new_key) < len(secret):\n",
    "        new_key = new_key + key[i]\n",
    "        i = (i + 1) % len(key)        \n",
    "    return \"\".join([chr(ord(secret_c) ^ ord(new_key_c)) for (secret_c,new_key_c) in zip(secret,new_key)])\n",
    "\n",
    "\n",
    "\n",
    "\"\"\"\n",
    "Short demo of using the `str_xor` encode/decode function\n",
    "\"\"\"\n",
    "##################################################################################### DELETE PWS:\n",
    "# * The key for str_xor is 'blah' in ASCII, but truly, it is just a number.\n",
    "# * In ASCII ciphers, the \"key\" was the amount of shift in each letter.\n",
    "#key = 'blah'\n",
    "key = \"apogee\"\n",
    "\n",
    "# The string we're encrypting is 'hoop'\n",
    "#secret = 'hoop'\n",
    "secret = 'picoCTF{p4p4-wh1sk3y-11m4-thr33-c69d}'\n",
    "\n",
    "print(\"Secret: \" + secret)\n",
    "\n",
    "# ciphertext is the resulting text after putting a secret string through a cipher\n",
    "ciphertext = str_xor(secret, key)\n",
    "ciphertext_bytes = bytearray()\n",
    "ciphertext_bytes.extend(ciphertext.encode())\n",
    "\n",
    "# For the ASCII cipher, we keep all shifting to the printable alphabet, but this\n",
    "#   enciphering results in number that have no corresponding letter, number or symbol.\n",
    "print(\"Encrypted: \" + str(ciphertext_bytes))\n",
    "\n",
    "# * plaintext should be the orginal secret string after deciphering the ciphertext\n",
    "# * like ROT47, for str_xor, encoding and decoding are the same function with the \n",
    "#     same key\n",
    "plaintext = str_xor(ciphertext, key)\n",
    "\n",
    "print(\"Decrypted: \" + plaintext)"
   ]
  },
  {
   "cell_type": "markdown",
   "metadata": {},
   "source": [
    "## Level 1\n",
    "\n",
    "This first level of difficulty is a throwback to the early days of the Internet. When the Internet first began, no one was very sure what would happen with it (kind of like AI in this age). Generally, network communications were very trusting. No one tried to hide anything."
   ]
  },
  {
   "cell_type": "code",
   "execution_count": 2,
   "metadata": {},
   "outputs": [
    {
     "name": "stdout",
     "output_type": "stream",
     "text": [
      "Please enter correct password for flag: chthonian\n",
      "Welcome back... your flag, user:\n",
      "picoCTF{p4p4-wh1sk3y-11m4-0n3-9fb8}\n"
     ]
    }
   ],
   "source": [
    "### THIS FUNCTION WILL NOT HELP YOU FIND THE FLAG --LT ########################\n",
    "def str_xor(secret, key):\n",
    "    #extend key to secret length\n",
    "    new_key = key\n",
    "    i = 0\n",
    "    while len(new_key) < len(secret):\n",
    "        new_key = new_key + key[i]\n",
    "        i = (i + 1) % len(key)        \n",
    "    return \"\".join([chr(ord(secret_c) ^ ord(new_key_c)) for (secret_c,new_key_c) in zip(secret,new_key)])\n",
    "###############################################################################\n",
    "\n",
    "# v-- this is the flag in encrypted form!\n",
    "flag_enc = bytearray(b'\\x13\\x01\\x17\\x07,:/\\x1a\\x1eW\\x18@E\\x18\\x06X\\x12\\x05P\\x11YY^\\x03]L^\\r[YQ\\t\\x0cQ\\x1c')\n",
    "\n",
    "\n",
    "\n",
    "def level_1_pw_check():\n",
    "    user_pw = input(\"Please enter correct password for flag: \")\n",
    "    if( user_pw == \"chthonian\"):\n",
    "        print(\"Welcome back... your flag, user:\")\n",
    "        decryption = str_xor(flag_enc.decode(), user_pw)\n",
    "        print(decryption)\n",
    "        return\n",
    "    print(\"That password is incorrect\")\n",
    "\n",
    "\n",
    "\n",
    "level_1_pw_check()"
   ]
  },
  {
   "cell_type": "markdown",
   "metadata": {},
   "source": [
    "## Level 2\n",
    "\n",
    "This second level of challenge is a throwback to one of the first concepts we learned in class. Sometimes we don't need cryptography, just getting a password out of plain view is enough! \n",
    "\n",
    "This is a good time to ignore code you don't understand and look for code (or numbers) that you do understand. One important part of Python syntax for this snippet is that hexadecimal numbers are written like: `\\x6e`, where `\\x` tells Python that a hexadecimal number is about to follow, in this case `6e` which is `110` in decimal. Level 2 is very similar to Level 1. Noting the different line will help you understand what the new code is doing..."
   ]
  },
  {
   "cell_type": "code",
   "execution_count": 4,
   "metadata": {},
   "outputs": [
    {
     "name": "stdout",
     "output_type": "stream",
     "text": [
      "Please enter correct password for flag: enkidu\n",
      "Welcome back... your flag, user:\n",
      "picoCTF{p4p4-wh1sk3y-11m4-tw0-4c18}\n"
     ]
    }
   ],
   "source": [
    "### THIS FUNCTION WILL NOT HELP YOU FIND THE FLAG --LT ########################\n",
    "def str_xor(secret, key):\n",
    "    #extend key to secret length\n",
    "    new_key = key\n",
    "    i = 0\n",
    "    while len(new_key) < len(secret):\n",
    "        new_key = new_key + key[i]\n",
    "        i = (i + 1) % len(key)        \n",
    "    return \"\".join([chr(ord(secret_c) ^ ord(new_key_c)) for (secret_c,new_key_c) in zip(secret,new_key)])\n",
    "###############################################################################\n",
    "\n",
    "# v-- this is the flag in encrypted form!\n",
    "flag_enc = bytearray(b\"\\x15\\x07\\x08\\x06\\'!#\\x15\\x1b]\\x14AH\\x19\\x03X\\x17\\x1eV\\x17FXU\\x18QC\\x1f\\x1eTXQ\\rZQ\\x19\")\n",
    "\n",
    "\n",
    "\n",
    "def level_2_pw_check():\n",
    "    user_pw = input(\"Please enter correct password for flag: \")\n",
    "    if( user_pw == bytearray(b'\\x65\\x6e\\x6b\\x69\\x64\\x75').decode()):\n",
    "        print(\"Welcome back... your flag, user:\")\n",
    "        decryption = str_xor(flag_enc.decode(), user_pw)\n",
    "        print(decryption)\n",
    "        return\n",
    "    print(\"That password is incorrect\")\n",
    "\n",
    "\n",
    "\n",
    "level_2_pw_check()"
   ]
  },
  {
   "cell_type": "markdown",
   "metadata": {},
   "source": [
    "## Level 3\n",
    "\n",
    "A mathematical function called a \"hash\" changed the face of password authorization once people started buying into personal computers and the Internet so much so that thieves started bothering to learn what they needed to steal from others using this new electronic medium.\n",
    "\n",
    "Hash functions take any input and transform it into a fixed length string. The same string always creates the same hash, but similar strings create completely different hashes (ideally).\n",
    "\n",
    "For the Level 3 challenge, please use the hash function as provided in the code below:"
   ]
  },
  {
   "cell_type": "code",
   "execution_count": 5,
   "metadata": {},
   "outputs": [
    {
     "name": "stdout",
     "output_type": "stream",
     "text": [
      "Please enter correct password for flag: h\n",
      "That password is incorrect\n",
      "b'i\\xe0\\xdct9)m\\xd3\\xa7v\\xfd\\xdc\\xdd\\x82\\xe9\\x00'\n",
      "b'O~\\x11c;?\\x8eD\\xb4B\\xd7\\x9f5\\xddT\\r'\n",
      "b'\\xc6&\\xef\\x0b{>\\nRw\\xabo\\xbb\\x9a\\xaa\\xfd_'\n",
      "b'm\\xd6\\xb3h\\xe3@\\xbd\\xe38\\xe2\\xda?(\\xe6\\xb0\\xed'\n",
      "b'h\\r\\xe8\\xd1=y\\x86\\xd8H\\xdf\\xfc-t\\xfb\\x8c\\xd4'\n",
      "b'UO\\x8aX\\x1f<\\xb3\\xc2\\x85\\x87(!\\x14\\xf5\\xf7\\n'\n",
      "b'`\\xbf\\xcaiP\\x95\\xf3\\x07\\xf6Q\\xcd\\xfe\\xb6\\xfc\\x81\\xef'\n"
     ]
    }
   ],
   "source": [
    "import hashlib\n",
    "\n",
    "### THIS FUNCTION WILL NOT HELP YOU FIND THE FLAG --LT ########################\n",
    "def str_xor(secret, key):\n",
    "    #extend key to secret length\n",
    "    new_key = key\n",
    "    i = 0\n",
    "    while len(new_key) < len(secret):\n",
    "        new_key = new_key + key[i]\n",
    "        i = (i + 1) % len(key)        \n",
    "    return \"\".join([chr(ord(secret_c) ^ ord(new_key_c)) for (secret_c,new_key_c) in zip(secret,new_key)])\n",
    "###############################################################################\n",
    "\n",
    "# v-- this is the flag in encrypted form!\n",
    "flag_enc = bytearray(b\"\\x11\\x19\\x0c\\x08&1\\'\\x0b\\x1fS\\x15QL\\x07\\x07V\\x16\\x0eR\\tBVT\\x08U]\\x1b\\x0f\\x17VR]\\x0cQ\\\\\\x01\\x1c\")\n",
    "\n",
    "\n",
    "\n",
    "def hash_pw(pw_str):\n",
    "    pw_bytes = bytearray()\n",
    "    pw_bytes.extend(pw_str.encode())\n",
    "    m = hashlib.md5()\n",
    "    m.update(pw_bytes)\n",
    "    return m.digest()\n",
    "\n",
    "\n",
    "\n",
    "def level_3_pw_check():\n",
    "    user_pw = input(\"Please enter correct password for flag: \")\n",
    "    user_pw_hash = hash_pw(user_pw)\n",
    "    \n",
    "    if( user_pw_hash == bytearray(b'\\xc6&\\xef\\x0b{>\\nRw\\xabo\\xbb\\x9a\\xaa\\xfd_') ):\n",
    "        print(\"Welcome back... your flag, user:\")\n",
    "        decryption = str_xor(flag_enc.decode(), user_pw)\n",
    "        print(decryption)\n",
    "        return\n",
    "    print(\"That password is incorrect\")\n",
    "\n",
    "\n",
    "\n",
    "level_3_pw_check()\n",
    "\n",
    "### NOTE: You can make a new cell or put code below here to work with it.\n",
    "### NOTE: You can comment out the `level_3_pw_check()` line viz. insert \"#\" at\n",
    "###         beginning of line.\n",
    "\n",
    "# The strings below are 7 possibilities for the correct password. \n",
    "#   (Only 1 is correct)\n",
    "pos_pw_list = [\"cortana\", \"maximus\", \"apogee\", \"astraeus\", \"xenophobia\", \"byzantine\", \"enkidu\"]\n",
    "\n",
    "\n"
   ]
  },
  {
   "cell_type": "code",
   "execution_count": null,
   "metadata": {},
   "outputs": [],
   "source": []
  },
  {
   "cell_type": "code",
   "execution_count": null,
   "metadata": {},
   "outputs": [],
   "source": []
  }
 ],
 "metadata": {
  "kernelspec": {
   "display_name": "Python 3",
   "language": "python",
   "name": "python3"
  },
  "language_info": {
   "codemirror_mode": {
    "name": "ipython",
    "version": 3
   },
   "file_extension": ".py",
   "mimetype": "text/x-python",
   "name": "python",
   "nbconvert_exporter": "python",
   "pygments_lexer": "ipython3",
   "version": "3.7.6"
  }
 },
 "nbformat": 4,
 "nbformat_minor": 4
}
