{
 "cells": [
  {
   "cell_type": "code",
   "execution_count": 2,
   "metadata": {},
   "outputs": [
    {
     "name": "stdout",
     "output_type": "stream",
     "text": [
      "\n",
      "\u0003\u000e\u0018\n",
      "hoop\n"
     ]
    }
   ],
   "source": [
    "\"\"\"\n",
    "The function below is used for decrypting the flag when the correct password is given,\n",
    "however, it is quite dense and uses a function `zip` that I don't intend to cover in\n",
    "this class. It exists here so that the actual flags can live in this Notebook but only\n",
    "be viewed if the correct password is given.\n",
    "Documentation: https://stackoverflow.com/questions/20557999/xor-python-text-encryption-decryption\n",
    "\"\"\"\n",
    "def str_xor(s1, s2):\n",
    "    return \"\".join([chr(ord(c1) ^ ord(c2)) for (c1,c2) in zip(s1,s2)])\n",
    "\n",
    "key = 'blah'\n",
    "secret = 'hoop'\n",
    "\n",
    "ciphertext = str_xor(secret, key)\n",
    "\n",
    "print(ciphertext)\n",
    "\n",
    "plaintext = str_xor(ciphertext, key)\n",
    "\n",
    "print(plaintext)"
   ]
  },
  {
   "cell_type": "markdown",
   "metadata": {},
   "source": [
    "# BOOKMARK: the above is mostly prototype still, but this xor encrypt works!"
   ]
  }
 ],
 "metadata": {
  "kernelspec": {
   "display_name": "Python 3",
   "language": "python",
   "name": "python3"
  },
  "language_info": {
   "codemirror_mode": {
    "name": "ipython",
    "version": 3
   },
   "file_extension": ".py",
   "mimetype": "text/x-python",
   "name": "python",
   "nbconvert_exporter": "python",
   "pygments_lexer": "ipython3",
   "version": "3.7.6"
  }
 },
 "nbformat": 4,
 "nbformat_minor": 4
}
